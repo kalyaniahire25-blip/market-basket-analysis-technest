{
 "cells": [
  {
   "cell_type": "code",
   "execution_count": null,
   "id": "6bd61f3d",
   "metadata": {},
   "outputs": [],
   "source": [
    "\n",
    "# Market Basket Analysis using Apriori Algorithm"
   ]
  },
  {
   "cell_type": "markdown",
   "id": "12aa0de7",
   "metadata": {},
   "source": [
    "## 📌 Task Overview\n",
    "- Identify frequent product pairings from transaction data\n",
    "- Discover consumer purchase patterns\n",
    "- Generate actionable business insights"
   ]
  },
  {
   "cell_type": "code",
   "execution_count": null,
   "id": "94250b1b",
   "metadata": {},
   "outputs": [],
   "source": [
    "---"
   ]
  },
  {
   "cell_type": "markdown",
   "id": "f7af257c",
   "metadata": {},
   "source": [
    "## 📁 Step 1: Import Libraries"
   ]
  },
  {
   "cell_type": "code",
   "execution_count": null,
   "id": "5ee6fac6",
   "metadata": {},
   "outputs": [],
   "source": [
    "```python\n",
    "import pandas as pd\n",
    "from mlxtend.preprocessing import TransactionEncoder\n",
    "from mlxtend.frequent_patterns import apriori, association_rules\n",
    "```"
   ]
  },
  {
   "cell_type": "code",
   "execution_count": null,
   "id": "ed95dcd2",
   "metadata": {},
   "outputs": [],
   "source": [
    "---"
   ]
  },
  {
   "cell_type": "markdown",
   "id": "6194aff8",
   "metadata": {},
   "source": [
    "## 📥 Step 2: Load the Dataset"
   ]
  },
  {
   "cell_type": "code",
   "execution_count": null,
   "id": "953ef10f",
   "metadata": {},
   "outputs": [],
   "source": [
    "```python\n",
    "# Load the dataset (make sure 'Groceries_dataset.csv' is in the same directory)\n",
    "df = pd.read_csv(\"Groceries_dataset.csv\")\n",
    "df.head()\n",
    "```"
   ]
  },
  {
   "cell_type": "code",
   "execution_count": null,
   "id": "4489fd10",
   "metadata": {},
   "outputs": [],
   "source": [
    "---"
   ]
  },
  {
   "cell_type": "markdown",
   "id": "cf28194c",
   "metadata": {},
   "source": [
    "## 🧹 Step 3: Data Preprocessing"
   ]
  },
  {
   "cell_type": "code",
   "execution_count": null,
   "id": "4e03c89f",
   "metadata": {},
   "outputs": [],
   "source": [
    "```python\n",
    "# Combine transactions by customer and date\n",
    "baskets = df.groupby(['Member_number', 'Date'])['itemDescription'].apply(list).tolist()\n",
    "```"
   ]
  },
  {
   "cell_type": "code",
   "execution_count": null,
   "id": "686fbc11",
   "metadata": {},
   "outputs": [],
   "source": [
    "---"
   ]
  },
  {
   "cell_type": "markdown",
   "id": "019a962b",
   "metadata": {},
   "source": [
    "## 🔄 Step 4: Transform Data into Basket Format"
   ]
  },
  {
   "cell_type": "code",
   "execution_count": null,
   "id": "bac7bdd0",
   "metadata": {},
   "outputs": [],
   "source": [
    "```python\n",
    "# Convert into one-hot encoded dataframe\n",
    "te = TransactionEncoder()\n",
    "te_ary = te.fit(baskets).transform(baskets)\n",
    "df_encoded = pd.DataFrame(te_ary, columns=te.columns_)\n",
    "```"
   ]
  },
  {
   "cell_type": "code",
   "execution_count": null,
   "id": "becce55b",
   "metadata": {},
   "outputs": [],
   "source": [
    "---"
   ]
  },
  {
   "cell_type": "markdown",
   "id": "cca265dd",
   "metadata": {},
   "source": [
    "## ⚙️ Step 5: Apply Apriori Algorithm"
   ]
  },
  {
   "cell_type": "code",
   "execution_count": null,
   "id": "72c85f32",
   "metadata": {},
   "outputs": [],
   "source": [
    "```python\n",
    "# Generate frequent itemsets\n",
    "frequent_itemsets = apriori(df_encoded, min_support=0.01, use_colnames=True)\n",
    "frequent_itemsets.sort_values(by=\"support\", ascending=False).head(10)\n",
    "```"
   ]
  },
  {
   "cell_type": "code",
   "execution_count": null,
   "id": "7854fb04",
   "metadata": {},
   "outputs": [],
   "source": [
    "---"
   ]
  },
  {
   "cell_type": "markdown",
   "id": "f3ab2bf6",
   "metadata": {},
   "source": [
    "## 📊 Step 6: Generate Association Rules"
   ]
  },
  {
   "cell_type": "code",
   "execution_count": null,
   "id": "c65074bf",
   "metadata": {},
   "outputs": [],
   "source": [
    "```python\n",
    "# Generate rules\n",
    "rules = association_rules(frequent_itemsets, metric=\"confidence\", min_threshold=0.3)\n",
    "rules_sorted = rules.sort_values(by='lift', ascending=False)\n",
    "rules_sorted[['antecedents', 'consequents', 'support', 'confidence', 'lift']].head(10)\n",
    "```"
   ]
  },
  {
   "cell_type": "code",
   "execution_count": null,
   "id": "6d825cd4",
   "metadata": {},
   "outputs": [],
   "source": [
    "---"
   ]
  },
  {
   "cell_type": "markdown",
   "id": "f28d74f5",
   "metadata": {},
   "source": [
    "## 🧠 Step 7: Insights"
   ]
  },
  {
   "cell_type": "code",
   "execution_count": null,
   "id": "fb27e004",
   "metadata": {},
   "outputs": [],
   "source": [
    "```python\n",
    "# Example: Print top 5 rules\n",
    "for index, row in rules_sorted.head(5).iterrows():\n",
    "    print(f\"If a customer buys {list(row['antecedents'])}, they are also likely to buy {list(row['consequents'])} (Confidence: {row['confidence']:.2f}, Lift: {row['lift']:.2f})\")\n",
    "```"
   ]
  },
  {
   "cell_type": "code",
   "execution_count": null,
   "id": "dc33b7bc",
   "metadata": {},
   "outputs": [],
   "source": [
    "---"
   ]
  },
  {
   "cell_type": "markdown",
   "id": "704db8ba",
   "metadata": {},
   "source": [
    "## ✅ Summary\n",
    "- Used Apriori for market basket analysis\n",
    "- Identified frequent itemsets and strong association rules\n",
    "- These insights can help design targeted promotions and cross-sell strategies\n"
   ]
  }
 ],
 "metadata": {},
 "nbformat": 4,
 "nbformat_minor": 5
}
